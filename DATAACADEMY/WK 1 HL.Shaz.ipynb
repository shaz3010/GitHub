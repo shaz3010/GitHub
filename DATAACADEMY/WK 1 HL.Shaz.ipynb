{
 "metadata": {
  "language_info": {
   "codemirror_mode": {
    "name": "ipython",
    "version": 3
   },
   "file_extension": ".py",
   "mimetype": "text/x-python",
   "name": "python",
   "nbconvert_exporter": "python",
   "pygments_lexer": "ipython3",
   "version": "3.9.6"
  },
  "orig_nbformat": 4,
  "kernelspec": {
   "name": "python3",
   "display_name": "Python 3.9.6 64-bit"
  },
  "interpreter": {
   "hash": "4f5c92c846342305bfe4247bfdb47d8336c736ed50a87bb0fdaf561406f42a05"
  }
 },
 "nbformat": 4,
 "nbformat_minor": 2,
 "cells": [
  {
   "cell_type": "code",
   "execution_count": 1,
   "metadata": {},
   "outputs": [
    {
     "output_type": "error",
     "ename": "SyntaxError",
     "evalue": "invalid syntax (Temp/ipykernel_9356/2548685619.py, line 9)",
     "traceback": [
      "\u001b[1;36m  File \u001b[1;32m\"C:\\Users\\fgf\\AppData\\Local\\Temp/ipykernel_9356/2548685619.py\"\u001b[1;36m, line \u001b[1;32m9\u001b[0m\n\u001b[1;33m    else:\u001b[0m\n\u001b[1;37m    ^\u001b[0m\n\u001b[1;31mSyntaxError\u001b[0m\u001b[1;31m:\u001b[0m invalid syntax\n"
     ]
    }
   ],
   "source": [
    "task1\n",
    "import random\n",
    "myname = input(\"Hi, What is your name?\")\n",
    "number = random.randint(1,10)\n",
    "guess (\"can\") + myname (\"you guess a number between 1 and 10?\")\n",
    "guess = int (\"take a guess\")\n",
    "if guess == number:\n",
    "    print(\"fab, + myname + you guessed my number\")\n",
    "    else:\n",
    "        print(\"uh oh, better luck next time\")\n",
    "\n",
    "task 2\n",
    "favouritenumber = int(input(\"what is your favourite number between 1 and 100? Based on your given numer I will tell you a joke.\"))\n",
    "if 1 == 1-33:\n",
    "    print(\"Great, based on your choice, i will ask you  - 'why do e tell actors to \"break a leg?\"'\")\n",
    "        if guess == beacuse every play has a cast:\n",
    "            print(\"fab, that is the correct answer\")\n",
    "             else:\n",
    "              print(\"uh oh, better luck next time\")\n",
    "if 2 == 34-65:\n",
    "    print(\"Great, based on your choice, i will ask you  - 'did you hear about the claustrophobic astronaut?'\")\n",
    "        if guess == yes, he just needed a little space:\n",
    "            print(\"fab, that is the correct answer\")\n",
    "             else:\n",
    "              print(\"uh oh, better luck next time\")\n",
    "if 3 == 66-100:\n",
    "    print(\"Great, based on your choice, i will ask you  - 'why don't scientists trust atoms?'\"\n",
    "        if guess == beacuse they make up everything:\n",
    "            print(\"fab, that is the correct answer\")\n",
    "             else:\n",
    "              print(\"uh oh, better luck next time\")\n",
    "\n",
    "task 3\n",
    "user_input_1 = input(\"what is your favourite starter?\")\n",
    "\n",
    "user_input_2 = input(\"what is your favourite course?\")\n",
    "\n",
    "user_input_3 = input(\"what is your favourite dessert?\")\n",
    "\n",
    "user_input_4 = input(\"what is your favourite drink?\")\n",
    "print(\"your favourite meal is\" user_input_1, user_input_2, user_input_3 \"with a glass of\" user_input_4)\n",
    "\n",
    "Task 4\n",
    "total = 2000\n",
    "num = <10%\n",
    "for year in range(2001,2009):\n",
    "print(total - num)\n",
    "#i got a bit lost on this one - not sure if its is right\n",
    "\n",
    "Task 5\n",
    "i = int(input(\"enter first number:\"))\n",
    "ii = int(input(\"enter second number:\"))\n",
    "sum = i=ii \n",
    "print(sum)\n",
    "\n",
    "#not sure now, but will continue lol\n",
    "\n",
    "menu = {}\n",
    "menu['1']=\"tuna sandwich.\" \n",
    "menu['2']=\"cheese sandwich.\"\n",
    "menu['3']=\"pickle sandwich\"\n",
    "menu['4']=\"salad sandwich\"\n",
    "\n",
    "if selection =='1': \n",
    "      print \"add\" \n",
    "    elif selection == '2': \n",
    "      print \"delete\"\n",
    "    elif selection == '3':\n",
    "      print \"find\" \n",
    "    elif selection == '4': \n",
    "      break\n",
    "    else: \n",
    "      print \"Unknown Option Selected!\" "
   ]
  }
 ]
}